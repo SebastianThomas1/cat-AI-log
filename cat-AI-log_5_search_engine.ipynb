{
 "cells": [
  {
   "cell_type": "markdown",
   "metadata": {},
   "source": [
    "# cat-AI-log. An AI-based product group allocation system\n",
    "\n",
    "Capstone project.\n",
    "\n",
    "Sebastian Thomas @ neue fische Bootcamp Data Science<br />\n",
    "(datascience at sebastianthomas dot de)"
   ]
  },
  {
   "cell_type": "markdown",
   "metadata": {},
   "source": [
    "# Part 5: The search engine\n",
    "\n",
    "We develop and illustrate the search engine, which is the core functionality of cat-AI-log.\n",
    "\n",
    "## Import of modules, classes and functions"
   ]
  },
  {
   "cell_type": "code",
   "execution_count": null,
   "metadata": {},
   "outputs": [],
   "source": [
    "# python object persistence\n",
    "import joblib\n",
    "\n",
    "# data\n",
    "import numpy as np\n",
    "import pandas as pd\n",
    "\n",
    "# machine learning\n",
    "from sklearn.feature_extraction.text import CountVectorizer\n",
    "\n",
    "# custom modules\n",
    "from modules.spelling_correction import SpellingCorrector, edit_distance\n",
    "from modules.quotient_extraction import pairwise_damerau_levenshtein_distances, pairwise_damerau_levenshtein_similarities, symmetric_matrix, csgraph, quotient_matrix\n",
    "from modules.search import SearchEngine\n",
    "\n",
    "# development:\n",
    "# scientific computations\n",
    "#from scipy.sparse import load_npz, save_npz"
   ]
  },
  {
   "cell_type": "markdown",
   "metadata": {},
   "source": [
    "## Import of data\n",
    "\n",
    "We import our data."
   ]
  },
  {
   "cell_type": "code",
   "execution_count": null,
   "metadata": {},
   "outputs": [],
   "source": [
    "mira = pd.read_pickle('data/mira_processed.pickle')\n",
    "mira.sample(5, random_state=0)"
   ]
  },
  {
   "cell_type": "markdown",
   "metadata": {},
   "source": [
    "We define the corpus on which the objects in this notebook are fitted."
   ]
  },
  {
   "cell_type": "code",
   "execution_count": null,
   "metadata": {},
   "outputs": [],
   "source": [
    "corpus = mira['article'].values"
   ]
  },
  {
   "cell_type": "markdown",
   "metadata": {},
   "source": [
    "## Spelling corrector"
   ]
  },
  {
   "cell_type": "markdown",
   "metadata": {},
   "source": [
    "To correct spelling mistakes in search queries, we use a simple spelling corrector, which is a scikit-learn transformer. When fitted on the corpus, this spelling corrector computes and saves the vocabulary of the documents. Search queries are given via the transform method, which tokenizes search queries, replaces every token by its nearest word in the vocabulary, and returns the joined strings as corrected search queries."
   ]
  },
  {
   "cell_type": "code",
   "execution_count": null,
   "metadata": {},
   "outputs": [],
   "source": [
    "spelling_corrector = SpellingCorrector()\n",
    "spelling_corrector.fit(corpus);"
   ]
  },
  {
   "cell_type": "code",
   "execution_count": null,
   "metadata": {},
   "outputs": [],
   "source": [
    "spelling_corrector.transform(['Asprin Cmplx', 'Paracetamol', 'Syndikort'])"
   ]
  },
  {
   "cell_type": "code",
   "execution_count": null,
   "metadata": {},
   "outputs": [],
   "source": [
    "joblib.dump(spelling_corrector, 'objects/spelling_corrector.joblib');"
   ]
  },
  {
   "cell_type": "markdown",
   "metadata": {},
   "source": [
    "## Search engine"
   ]
  },
  {
   "cell_type": "markdown",
   "metadata": {},
   "source": [
    "We initialize an instance of the search engine and fit it on the corpus. Since fitting takes a long computation time, we avoid double computations by persisting the object."
   ]
  },
  {
   "cell_type": "code",
   "execution_count": null,
   "metadata": {},
   "outputs": [],
   "source": [
    "# due to long computation time, only fit search engine once\n",
    "try:\n",
    "    search_engine = joblib.load('objects/search_engine.joblib')\n",
    "except FileNotFoundError:\n",
    "    search_engine = SearchEngine()\n",
    "    search_engine.fit(corpus);\n",
    "    joblib.dump(search_engine, 'objects/search_engine.joblib');\n",
    "\n",
    "# development: allow import of intermediate steps \n",
    "\n",
    "#try:\n",
    "#    vocabulary = np.load('objects/vocabulary.npy')\n",
    "#except FileNotFoundError:\n",
    "#    count_vectorizer = CountVectorizer(token_pattern=r'(?u)\\b\\w+\\b')\n",
    "#    count_vectorizer.fit(corpus)\n",
    "#    vocabulary = np.array(count_vectorizer.get_feature_names()).astype('U')\n",
    "#    np.save('objects/vocabulary.npy', vocabulary)\n",
    "    \n",
    "#try:\n",
    "#    distances = np.load('objects/distances.npy')\n",
    "#except FileNotFoundError:\n",
    "#    distances = pairwise_damerau_levenshtein_distances(vocabulary, dtype=np.uint8)\n",
    "#    np.save('objects/distances.npy', distances)\n",
    "\n",
    "#try:\n",
    "#    q = load_npz('objects/quotient_matrix.npz')\n",
    "#except IOError:\n",
    "#    similarities = pairwise_damerau_levenshtein_similarities(vocabulary, distances)\n",
    "#    strong_similarities = csgraph(symmetric_matrix(similarities), 0.8)\n",
    "#    q = quotient_matrix(strong_similarities)\n",
    "#    save_npz('objects/quotient_matrix.npz', q, compressed=True)\n",
    "\n",
    "#try:\n",
    "#    search_engine = joblib.load('objects/search_engine.joblib')\n",
    "#except FileNotFoundError:\n",
    "#    search_engine = SearchEngine(quotient_matrix=q)\n",
    "#    search_engine.fit(corpus);\n",
    "#    joblib.dump(search_engine, 'objects/search_engine.joblib');"
   ]
  },
  {
   "cell_type": "markdown",
   "metadata": {},
   "source": [
    "By default, the search engine returns only the document in the corpus that best matches the search query."
   ]
  },
  {
   "cell_type": "code",
   "execution_count": null,
   "metadata": {},
   "outputs": [],
   "source": [
    "search_engine.recommend('Aspirin')"
   ]
  },
  {
   "cell_type": "markdown",
   "metadata": {},
   "source": [
    "The search engine can also return all matching documents."
   ]
  },
  {
   "cell_type": "code",
   "execution_count": null,
   "metadata": {},
   "outputs": [],
   "source": [
    "search_engine.recommend('Aspirin', max_count=None)"
   ]
  },
  {
   "cell_type": "markdown",
   "metadata": {},
   "source": [
    "There is a parameter that controls the output of the search engine. The default value of `output` is `'documents'`. For further processing, it can also return the indices of the matching documents as well as the similarities."
   ]
  },
  {
   "cell_type": "code",
   "execution_count": null,
   "metadata": {},
   "outputs": [],
   "source": [
    "search_engine.recommend('Aspirin', max_count=None, output='indices')"
   ]
  },
  {
   "cell_type": "code",
   "execution_count": null,
   "metadata": {},
   "outputs": [],
   "source": [
    "mira.iloc[search_engine.recommend('Aspirin', max_count=None, output='indices')]\\\n",
    "[['article', 'product group', 'prediction print', 'certainty print']]"
   ]
  },
  {
   "cell_type": "code",
   "execution_count": null,
   "metadata": {},
   "outputs": [],
   "source": [
    "search_engine.recommend('Aspirin', max_count=None, output='with_similarities')"
   ]
  },
  {
   "cell_type": "markdown",
   "metadata": {},
   "source": [
    "Outputs can be limited by a threshold for the similarities."
   ]
  },
  {
   "cell_type": "code",
   "execution_count": null,
   "metadata": {},
   "outputs": [],
   "source": [
    "search_engine.recommend('Aspirin', max_count=None, output='with_similarities', threshold=0.5)"
   ]
  },
  {
   "cell_type": "markdown",
   "metadata": {},
   "source": [
    "The spelling corrector can be placed in front of the search engine. The ordering of the tokens in the search query does not matter."
   ]
  },
  {
   "cell_type": "code",
   "execution_count": null,
   "metadata": {},
   "outputs": [],
   "source": [
    "search_engine.recommend(spelling_corrector.transform(['CMPLX Asprin'])[0], max_count=None)"
   ]
  },
  {
   "cell_type": "markdown",
   "metadata": {},
   "source": [
    "By default, the search engine may return documents which do not match all tokens of the search query. This behaviour can be controled by another parameter."
   ]
  },
  {
   "cell_type": "code",
   "execution_count": null,
   "metadata": {},
   "outputs": [],
   "source": [
    "search_engine.recommend(spelling_corrector.transform(['CMPLX Asprin'])[0], max_count=None, include_all=True)"
   ]
  },
  {
   "cell_type": "markdown",
   "metadata": {},
   "source": [
    "The search engine might also find documents which have spelling mistakes."
   ]
  },
  {
   "cell_type": "code",
   "execution_count": null,
   "metadata": {},
   "outputs": [],
   "source": [
    "search_engine.recommend('Aspirin effect', max_count=None, include_all=True)"
   ]
  },
  {
   "cell_type": "markdown",
   "metadata": {},
   "source": [
    "We illustrate some more examples."
   ]
  },
  {
   "cell_type": "code",
   "execution_count": null,
   "metadata": {},
   "outputs": [],
   "source": [
    "search_engine.recommend('Paracetamol', max_count=None)"
   ]
  },
  {
   "cell_type": "code",
   "execution_count": null,
   "metadata": {},
   "outputs": [],
   "source": [
    "search_engine.recommend('Ibuprofen', max_count=None)"
   ]
  },
  {
   "cell_type": "code",
   "execution_count": null,
   "metadata": {},
   "outputs": [],
   "source": [
    "search_engine.recommend('Symbicort', max_count=None)"
   ]
  },
  {
   "cell_type": "code",
   "execution_count": null,
   "metadata": {},
   "outputs": [],
   "source": [
    "search_engine.recommend('Hydrocortison', max_count=None)"
   ]
  },
  {
   "cell_type": "code",
   "execution_count": null,
   "metadata": {},
   "outputs": [],
   "source": [
    "search_engine.recommend('Hüft', max_count=None)"
   ]
  }
 ],
 "metadata": {
  "kernelspec": {
   "display_name": "Python 3",
   "language": "python",
   "name": "python3"
  },
  "language_info": {
   "codemirror_mode": {
    "name": "ipython",
    "version": 3
   },
   "file_extension": ".py",
   "mimetype": "text/x-python",
   "name": "python",
   "nbconvert_exporter": "python",
   "pygments_lexer": "ipython3",
   "version": "3.6.10"
  },
  "toc": {
   "base_numbering": 1,
   "nav_menu": {},
   "number_sections": false,
   "sideBar": true,
   "skip_h1_title": false,
   "title_cell": "Table of Contents",
   "title_sidebar": "Contents",
   "toc_cell": false,
   "toc_position": {},
   "toc_section_display": true,
   "toc_window_display": true
  }
 },
 "nbformat": 4,
 "nbformat_minor": 4
}
