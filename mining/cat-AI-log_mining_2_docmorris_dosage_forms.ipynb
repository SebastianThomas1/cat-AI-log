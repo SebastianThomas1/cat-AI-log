{
 "cells": [
  {
   "cell_type": "markdown",
   "metadata": {},
   "source": [
    "# cat-AI-log. An AI-based product group allocation system\n",
    "\n",
    "Capstone project.\n",
    "\n",
    "Sebastian Thomas @ neue fische Bootcamp Data Science<br />\n",
    "(datascience at sebastianthomas dot de)"
   ]
  },
  {
   "cell_type": "markdown",
   "metadata": {},
   "source": [
    "# Mining 2: html mining of DocMorris dosage forms\n",
    "\n",
    "We crawl a blog website of DocMorris to obtain a second abbreviation list of dosage forms.\n",
    "\n",
    "## Origin\n",
    "\n",
    "The DocMorris Blog Website can be found at https://www.docmorris-blog.de/2014/8/2/medikamente-abkuerzungsverzeichnis/.\n",
    "\n",
    "## Imports\n",
    "\n",
    "### Modules, classes and functions"
   ]
  },
  {
   "cell_type": "code",
   "execution_count": null,
   "metadata": {},
   "outputs": [],
   "source": [
    "# web requests\n",
    "import requests\n",
    "\n",
    "# xml parsing\n",
    "import bs4\n",
    "from bs4 import BeautifulSoup\n",
    "\n",
    "# data\n",
    "import pandas as pd"
   ]
  },
  {
   "cell_type": "markdown",
   "metadata": {},
   "source": [
    "## HTML Mining"
   ]
  },
  {
   "cell_type": "markdown",
   "metadata": {},
   "source": [
    "We request the webpage."
   ]
  },
  {
   "cell_type": "code",
   "execution_count": null,
   "metadata": {},
   "outputs": [],
   "source": [
    "response = requests.get('https://www.docmorris-blog.de/2014/8/2/medikamente-abkuerzungsverzeichnis/')\n",
    "soup = BeautifulSoup(response.text)"
   ]
  },
  {
   "cell_type": "markdown",
   "metadata": {},
   "source": [
    "We extract the information from the requested webpage."
   ]
  },
  {
   "cell_type": "code",
   "execution_count": null,
   "metadata": {},
   "outputs": [],
   "source": [
    "dosage_form = {}\n",
    "\n",
    "for idx in [15, 19, 23, 27]:\n",
    "    for row in [child\n",
    "                for child in soup.findAll('div', {'class': 'content niceText'})[0].contents[idx].tbody.children\n",
    "                if type(child) == bs4.element.Tag]:\n",
    "        cells = [child for child in row.children if type(child) == bs4.element.Tag]\n",
    "        if type(cells[0].contents[0]) == bs4.element.Tag:\n",
    "            for abbreviation in cells[0].strong.contents[0].split(' od. '):\n",
    "                dosage_form[abbreviation.strip()] = cells[1].contents[0]"
   ]
  },
  {
   "cell_type": "markdown",
   "metadata": {},
   "source": [
    "## Save data\n",
    "\n",
    "We save the table for later usage."
   ]
  },
  {
   "cell_type": "code",
   "execution_count": null,
   "metadata": {},
   "outputs": [],
   "source": [
    "pd.Series(dosage_form, index=pd.Index(dosage_form.keys(), name='abbreviation'),\n",
    "          name='dosage form').sort_values().to_csv('../data/dosage_forms_dm.csv', sep=';')"
   ]
  }
 ],
 "metadata": {
  "kernelspec": {
   "display_name": "Python 3",
   "language": "python",
   "name": "python3"
  },
  "language_info": {
   "codemirror_mode": {
    "name": "ipython",
    "version": 3
   },
   "file_extension": ".py",
   "mimetype": "text/x-python",
   "name": "python",
   "nbconvert_exporter": "python",
   "pygments_lexer": "ipython3",
   "version": "3.6.10"
  },
  "toc": {
   "base_numbering": 1,
   "nav_menu": {},
   "number_sections": false,
   "sideBar": true,
   "skip_h1_title": false,
   "title_cell": "Table of Contents",
   "title_sidebar": "Contents",
   "toc_cell": false,
   "toc_position": {},
   "toc_section_display": true,
   "toc_window_display": false
  }
 },
 "nbformat": 4,
 "nbformat_minor": 4
}
