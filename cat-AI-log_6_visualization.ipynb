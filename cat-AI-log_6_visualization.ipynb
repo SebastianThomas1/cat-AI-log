{
 "cells": [
  {
   "cell_type": "markdown",
   "metadata": {},
   "source": [
    "# cat-AI-log. An AI-based product group allocation system\n",
    "\n",
    "Capstone project.\n",
    "\n",
    "Sebastian Thomas @ neue fische Bootcamp Data Science<br />\n",
    "(datascience at sebastianthomas dot de)"
   ]
  },
  {
   "cell_type": "markdown",
   "metadata": {},
   "source": [
    "# Part 6: Visualization\n",
    "\n",
    "We visualize some results.\n",
    "\n",
    "## Imports\n",
    "\n",
    "### Modules, classes and functions"
   ]
  },
  {
   "cell_type": "code",
   "execution_count": null,
   "metadata": {},
   "outputs": [],
   "source": [
    "# data\n",
    "import numpy as np\n",
    "import pandas as pd\n",
    "\n",
    "# plots\n",
    "import matplotlib.pyplot as plt\n",
    "\n",
    "# machine learning\n",
    "from sklearn.pipeline import make_pipeline\n",
    "from sklearn.feature_extraction.text import CountVectorizer\n",
    "from sklearn.preprocessing import Normalizer"
   ]
  },
  {
   "cell_type": "markdown",
   "metadata": {},
   "source": [
    "### Data and objects"
   ]
  },
  {
   "cell_type": "code",
   "execution_count": null,
   "metadata": {},
   "outputs": [],
   "source": [
    "corpus_train = np.load('data/corpus_train.npy', allow_pickle=True)\n",
    "corpus_test = np.load('data/corpus_test.npy', allow_pickle=True)\n",
    "y_train = np.load('data/y_train.npy', allow_pickle=True)\n",
    "y_test = np.load('data/y_test.npy', allow_pickle=True)"
   ]
  },
  {
   "cell_type": "code",
   "execution_count": null,
   "metadata": {},
   "outputs": [],
   "source": [
    "from joblib import load\n",
    "\n",
    "label_encoder = load('objects/label_encoder.joblib')\n",
    "classifier = load('objects/dev_classifier.joblib')"
   ]
  },
  {
   "cell_type": "markdown",
   "metadata": {},
   "source": [
    "## Visualization\n",
    "\n",
    "### Division of test set into correctly and incorrectly classified instances"
   ]
  },
  {
   "cell_type": "code",
   "execution_count": null,
   "metadata": {},
   "outputs": [],
   "source": [
    "corpus_test_correct = corpus_test[y_test == classifier.predict(corpus_test)]\n",
    "corpus_test_incorrect = corpus_test[y_test != classifier.predict(corpus_test)]\n",
    "\n",
    "n = corpus_test.shape[0]\n",
    "n_correct = corpus_test_correct.shape[0]\n",
    "n_incorrect = corpus_test_incorrect.shape[0]\n",
    "\n",
    "fig = plt.figure(figsize=(17, 4), dpi=300)\n",
    "ax = plt.axes()\n",
    "ax.barh(0, width=n_correct, left=0, color='forestgreen')\n",
    "ax.barh(0, width=n_incorrect, left=n_correct, color='firebrick')\n",
    "ax.get_xaxis().set_tick_params(length=0)\n",
    "ax.get_yaxis().set_visible(False)\n",
    "ax.set_xlim(0, n)\n",
    "ax.set_xticks([0, n_correct, n])\n",
    "for direction in ['left', 'right', 'top', 'bottom']:\n",
    "    ax.spines[direction].set_visible(False)\n",
    "\n",
    "plt.savefig('figures/division_of_test_set.png', bbox_inches='tight', pad_inches=0)\n",
    "plt.savefig('figures/division_of_test_set.svg', bbox_inches='tight', pad_inches=0)\n",
    "plt.show()"
   ]
  },
  {
   "cell_type": "markdown",
   "metadata": {},
   "source": [
    "### Similarities of correctly and incorrectly classified instances to learned instances"
   ]
  },
  {
   "cell_type": "code",
   "execution_count": null,
   "metadata": {},
   "outputs": [],
   "source": [
    "normal_vectorizer = make_pipeline(CountVectorizer(), Normalizer())\n",
    "ndt = normal_vectorizer.fit_transform(corpus_train)\n",
    "\n",
    "#bin_descriptions = ['0.0 to 0.2', '0.2 to 0.4', '0.4 to 0.6', '0.6 to 0.8', '0.8 to 1.0']\n",
    "bin_descriptions = ['', 'dissimilar', '', '', '', 'similar']\n",
    "bins = np.linspace(0., 1., 6)\n",
    "\n",
    "similarities_correct = np.max(ndt.dot(normal_vectorizer.transform(corpus_test_correct).transpose()),\n",
    "                              axis=0).toarray().flatten()\n",
    "similarities_correct_binned = pd.cut(np.round(similarities_correct, 2), bins, include_lowest=True)\n",
    "similarities_correct_percentages = (similarities_correct_binned.value_counts()\n",
    "                                    / corpus_test_correct.shape[0] * 100)\n",
    "\n",
    "similarities_incorrect = np.max(ndt.dot(normal_vectorizer.transform(corpus_test_incorrect).transpose()),\n",
    "                              axis=0).toarray().flatten()\n",
    "similarities_incorrect_binned = pd.cut(np.round(similarities_incorrect, 2), bins, include_lowest=True)\n",
    "similarities_incorrect_percentages = (similarities_incorrect_binned.value_counts()\n",
    "                                      / corpus_test_incorrect.shape[0] * 100)\n",
    "\n",
    "(fig, (ax1, ax2)) = plt.subplots(1, 2, sharey=True, figsize=(17, 6), dpi=300)\n",
    "\n",
    "ax1.grid(axis='y', color='black', zorder=0)\n",
    "ax1.bar(range(5), similarities_correct_percentages, color='forestgreen', zorder=3)\n",
    "ax1.set_title(r'Similarities of $\\bf{correctly}$ catalogued articles')\n",
    "ax1.set_xlabel('similarity to most similar article learned by cat-AI-log')\n",
    "ax1.set_ylabel('percentage share')\n",
    "ax1.set_yticks([0, 20, 40, 60])\n",
    "ax1.set_xticklabels(bin_descriptions)\n",
    "ax1.get_xaxis().set_tick_params(length=0)\n",
    "ax1.spines['left'].set_visible(False)\n",
    "ax1.spines['right'].set_visible(False)\n",
    "ax1.spines['top'].set_visible(False)\n",
    "\n",
    "ax2.grid(axis='y', color='black', zorder=0)\n",
    "ax2.bar(range(5), similarities_incorrect_percentages, color='firebrick', zorder=3)\n",
    "ax2.set_title(r'Similarities of $\\bf{incorrectly}$ catalogued articles')\n",
    "ax2.set_xlabel('similarity to most similar article learned by cat-AI-log')\n",
    "ax2.set_yticks([0, 20, 40, 60])\n",
    "ax2.set_xticklabels(bin_descriptions)\n",
    "ax2.get_xaxis().set_tick_params(length=0)\n",
    "ax2.spines['left'].set_visible(False)\n",
    "ax2.spines['right'].set_visible(False)\n",
    "ax2.spines['top'].set_visible(False)\n",
    "\n",
    "plt.savefig('figures/similarities.png', bbox_inches='tight', pad_inches=0)\n",
    "plt.savefig('figures/similarities.svg', bbox_inches='tight', pad_inches=0)\n",
    "plt.show()"
   ]
  },
  {
   "cell_type": "markdown",
   "metadata": {},
   "source": [
    "### Certainties of correctly and incorrectly classified instances"
   ]
  },
  {
   "cell_type": "code",
   "execution_count": null,
   "metadata": {},
   "outputs": [],
   "source": [
    "#bin_descriptions = ['0.0 to 0.2', '0.2 to 0.4', '0.4 to 0.6', '0.6 to 0.8', '0.8 to 1.0']\n",
    "bin_descriptions = ['', 'uncertain', '', '', '', 'certain']\n",
    "bins = np.linspace(0., 1., 6)\n",
    "\n",
    "certainties_correct = np.max(classifier.predict_proba(corpus_test_correct), axis=1)\n",
    "certainties_correct_binned = pd.cut(np.round(certainties_correct, 2), bins, include_lowest=True)\n",
    "certainties_correct_percentages = (certainties_correct_binned.value_counts() \n",
    "                                   / corpus_test_correct.shape[0] * 100)\n",
    "\n",
    "certainties_incorrect = np.max(classifier.predict_proba(corpus_test_incorrect), axis=1)\n",
    "certainties_incorrect_binned = pd.cut(np.round(certainties_incorrect, 2), bins, include_lowest=True)\n",
    "certainties_incorrect_percentages = (certainties_incorrect_binned.value_counts()\n",
    "                                     / corpus_test_incorrect.shape[0] * 100)\n",
    "\n",
    "(fig, (ax1, ax2)) = plt.subplots(1, 2, sharey=True, figsize=(17, 6), dpi=300)\n",
    "\n",
    "ax1.grid(axis='y', color='black', zorder=0)\n",
    "ax1.bar(range(5), certainties_correct_percentages, color='forestgreen', zorder=3)\n",
    "ax1.set_title(r'Certainties of $\\bf{correctly}$ catalogued articles')\n",
    "ax1.set_xlabel('cat-AI-log\\'s certainty of having chosen the right product group')\n",
    "ax1.set_ylabel('percentage share')\n",
    "ax1.set_yticks([0, 20, 40, 60])\n",
    "ax1.set_xticklabels(bin_descriptions)\n",
    "ax1.get_xaxis().set_tick_params(length=0)\n",
    "ax1.spines['left'].set_visible(False)\n",
    "ax1.spines['right'].set_visible(False)\n",
    "ax1.spines['top'].set_visible(False)\n",
    "\n",
    "ax2.grid(axis='y', color='black', zorder=0)\n",
    "ax2.bar(range(5), certainties_incorrect_percentages, color='firebrick', zorder=3)\n",
    "ax2.set_title(r'Certainties of $\\bf{incorrectly}$ catalogued articles')\n",
    "ax2.set_xlabel('cat-AI-log\\'s certainty of having chosen the right product group')\n",
    "ax2.set_yticks([0, 20, 40, 60])\n",
    "ax2.set_xticklabels(bin_descriptions)\n",
    "ax2.get_xaxis().set_tick_params(length=0)\n",
    "ax2.spines['left'].set_visible(False)\n",
    "ax2.spines['right'].set_visible(False)\n",
    "ax2.spines['top'].set_visible(False)\n",
    "\n",
    "plt.savefig('figures/certainties.png', bbox_inches='tight', pad_inches=0)\n",
    "plt.savefig('figures/certainties.svg', bbox_inches='tight', pad_inches=0)\n",
    "plt.show()"
   ]
  }
 ],
 "metadata": {
  "kernelspec": {
   "display_name": "Python 3",
   "language": "python",
   "name": "python3"
  },
  "language_info": {
   "codemirror_mode": {
    "name": "ipython",
    "version": 3
   },
   "file_extension": ".py",
   "mimetype": "text/x-python",
   "name": "python",
   "nbconvert_exporter": "python",
   "pygments_lexer": "ipython3",
   "version": "3.7.8"
  },
  "toc": {
   "base_numbering": 1,
   "nav_menu": {},
   "number_sections": false,
   "sideBar": true,
   "skip_h1_title": false,
   "title_cell": "Table of Contents",
   "title_sidebar": "Contents",
   "toc_cell": false,
   "toc_position": {},
   "toc_section_display": true,
   "toc_window_display": true
  }
 },
 "nbformat": 4,
 "nbformat_minor": 4
}
