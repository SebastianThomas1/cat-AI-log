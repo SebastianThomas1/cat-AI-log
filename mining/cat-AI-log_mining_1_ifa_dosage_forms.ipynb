{
 "cells": [
  {
   "cell_type": "markdown",
   "metadata": {},
   "source": [
    "# cat-AI-log. An AI-based product group allocation system\n",
    "\n",
    "Capstone project.\n",
    "\n",
    "Sebastian Thomas @ neue fische Bootcamp Data Science<br />\n",
    "(datascience at sebastianthomas dot de)"
   ]
  },
  {
   "cell_type": "markdown",
   "metadata": {},
   "source": [
    "# Mining 1: pdf mining of IFA dosage forms\n",
    "\n",
    "We crawl a pdf from Informationsstelle für Arzneispezialitäten (IFA) to obtain an official abbreviation list of dosage forms.\n",
    "\n",
    "## Origin\n",
    "\n",
    "The pdf was downloaded from https://www.ifaffm.de/mandanten/1/documents/02_ifa_anbieter/richtlinien/IFA-Richtlinien_Darreichungsformen.pdf.\n",
    "\n",
    "## Imports\n",
    "\n",
    "### Modules, classes and functions"
   ]
  },
  {
   "cell_type": "code",
   "execution_count": null,
   "metadata": {},
   "outputs": [],
   "source": [
    "# string input-output\n",
    "from io import StringIO\n",
    "\n",
    "# regular expressions\n",
    "import re\n",
    "\n",
    "# pdfs\n",
    "# installation: pip install pdfminer.six==20191020\n",
    "from pdfminer.pdfinterp import PDFResourceManager, PDFPageInterpreter\n",
    "from pdfminer.converter import TextConverter\n",
    "from pdfminer.layout import LAParams\n",
    "from pdfminer.pdfpage import PDFPage\n",
    "\n",
    "# data\n",
    "import pandas as pd"
   ]
  },
  {
   "cell_type": "markdown",
   "metadata": {},
   "source": [
    "### Helpers"
   ]
  },
  {
   "cell_type": "code",
   "execution_count": null,
   "metadata": {},
   "outputs": [],
   "source": [
    "# inspired by https://stackoverflow.com/questions/56494070/how-to-use-pdfminer-six-with-python-3\n",
    "def extract_text(path, pagenos=None):\n",
    "    with StringIO() as string_io:\n",
    "        resource_manager = PDFResourceManager()\n",
    "        with TextConverter(resource_manager, string_io, laparams=LAParams()) as text_converter:\n",
    "            with open(path, 'rb') as pdf_file:\n",
    "                page_interpreter = PDFPageInterpreter(resource_manager, device=text_converter)\n",
    "                for page in PDFPage.get_pages(pdf_file, pagenos=pagenos):\n",
    "                    page_interpreter.process_page(page)\n",
    "                text = string_io.getvalue()\n",
    "    return text"
   ]
  },
  {
   "cell_type": "markdown",
   "metadata": {},
   "source": [
    "## Pdf mining"
   ]
  },
  {
   "cell_type": "code",
   "execution_count": null,
   "metadata": {},
   "outputs": [],
   "source": [
    "# extract text from pdfs\n",
    "text = ''\n",
    "\n",
    "for idx in range(2, 8):\n",
    "    page = extract_text('../data/IFA-Richtlinien_Darreichungsformen.pdf', [idx])\n",
    "    # remove headers, etc.\n",
    "    text += re.sub(r'IFA-Darreichungsformen|INFORMATION|3\\.  Darreichungsformentabelle|\\nErweiterung[\\ \\w\\d\\.\\:]*\\n|\\n09\\.09\\.2019[\\ \\w\\–\\n]*\\x0c$',\n",
    "                   '', page)\n",
    "\n",
    "# manual replacement to ensure that all tokens are recognized\n",
    "text = text.replace('PSE', '\\n PSE')"
   ]
  },
  {
   "cell_type": "code",
   "execution_count": null,
   "metadata": {},
   "outputs": [],
   "source": [
    "# extract abbreviations and dosage forms from text\n",
    "tokens = [token.strip() for token in text.split('\\n') if token not in ['', ' ']]\n",
    "\n",
    "abbreviations = []\n",
    "dosage_forms = []\n",
    "for token in tokens:\n",
    "    if len(token) == 3 and token.isupper():\n",
    "        abbreviations.append(token)\n",
    "    else:\n",
    "        dosage_forms.append(token)"
   ]
  },
  {
   "cell_type": "code",
   "execution_count": null,
   "metadata": {},
   "outputs": [],
   "source": [
    "# manual cleaning of dosage forms that are spread over several lines\n",
    "indices = [54, 62, 69, 88, 117, 163, 162, 165, 167, 169, 172, 171, 175, 174, 179, 178, 183, 186, 185, 189, 188,\n",
    "           194, 193, 192, 191, 241, 243]\n",
    "\n",
    "for idx in indices:\n",
    "    dosage_forms[idx] += ' ' + dosage_forms[idx + 1]\n",
    "\n",
    "for idx in sorted(indices, reverse=True):\n",
    "    dosage_forms.pop(idx + 1)\n",
    "\n",
    "# manual cleaning of a dosage form that contains multiple empty spaces\n",
    "dosage_forms[215] = re.sub(r'\\ \\ +', ' ', dosage_forms[215])"
   ]
  },
  {
   "cell_type": "markdown",
   "metadata": {},
   "source": [
    "## Save data\n",
    "\n",
    "The crawled data is persisted in a csv file."
   ]
  },
  {
   "cell_type": "code",
   "execution_count": null,
   "metadata": {},
   "outputs": [],
   "source": [
    "# save pairs abbreviation/dosage form to csv file\n",
    "pd.Series(dosage_forms, index=pd.Index(abbreviations, name='abbreviation'),\n",
    "          name='dosage form').to_csv('../data/dosage_forms_ifa.csv', sep=';')"
   ]
  }
 ],
 "metadata": {
  "kernelspec": {
   "display_name": "Python 3",
   "language": "python",
   "name": "python3"
  },
  "language_info": {
   "codemirror_mode": {
    "name": "ipython",
    "version": 3
   },
   "file_extension": ".py",
   "mimetype": "text/x-python",
   "name": "python",
   "nbconvert_exporter": "python",
   "pygments_lexer": "ipython3",
   "version": "3.6.10"
  },
  "toc": {
   "base_numbering": 1,
   "nav_menu": {},
   "number_sections": false,
   "sideBar": true,
   "skip_h1_title": false,
   "title_cell": "Table of Contents",
   "title_sidebar": "Contents",
   "toc_cell": false,
   "toc_position": {},
   "toc_section_display": true,
   "toc_window_display": false
  }
 },
 "nbformat": 4,
 "nbformat_minor": 4
}
