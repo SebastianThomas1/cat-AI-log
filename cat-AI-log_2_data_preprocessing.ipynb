{
 "cells": [
  {
   "cell_type": "markdown",
   "metadata": {},
   "source": [
    "# cat-AI-log. An AI-based product group allocation system\n",
    "\n",
    "Capstone project.\n",
    "\n",
    "Sebastian Thomas @ neue fische Bootcamp Data Science<br />\n",
    "(datascience at sebastianthomas dot de)"
   ]
  },
  {
   "cell_type": "markdown",
   "metadata": {},
   "source": [
    "# Part 2: Data preprocessing\n",
    "\n",
    "We clean the data and engineer some new features.\n",
    "\n",
    "## Imports\n",
    "\n",
    "### Modules, classes and functions"
   ]
  },
  {
   "cell_type": "code",
   "execution_count": null,
   "metadata": {},
   "outputs": [],
   "source": [
    "# python object persistence\n",
    "import joblib\n",
    "\n",
    "# data\n",
    "import numpy as np\n",
    "import pandas as pd\n",
    "\n",
    "# machine learning\n",
    "from sklearn.pipeline import make_pipeline\n",
    "from sklearn.preprocessing import FunctionTransformer\n",
    "\n",
    "# custom modules\n",
    "from modules.ds import data_type_info\n",
    "from transformer.cleaning import clean_mira\n",
    "from transformer.feature_engineering import extract_features_mira, reduce_to_base"
   ]
  },
  {
   "cell_type": "markdown",
   "metadata": {},
   "source": [
    "### Data\n",
    "\n",
    "We import our data."
   ]
  },
  {
   "cell_type": "code",
   "execution_count": null,
   "metadata": {},
   "outputs": [],
   "source": [
    "mira = pd.read_pickle('data/mira_1.pickle')\n",
    "mira.sample(5, random_state=0)"
   ]
  },
  {
   "cell_type": "markdown",
   "metadata": {},
   "source": [
    "## Data cleaning\n",
    "\n",
    "### Removing strange initial and final characters\n",
    "The feature `'article'` has values which begin with `'!'` or begin or end with `'*'`."
   ]
  },
  {
   "cell_type": "code",
   "execution_count": null,
   "metadata": {},
   "outputs": [],
   "source": [
    "print(mira.loc[118, 'article'])\n",
    "print(mira.loc[423, 'article'])\n",
    "print(mira.loc[549, 'article'])"
   ]
  },
  {
   "cell_type": "markdown",
   "metadata": {},
   "source": [
    "To clean the feature `'article'`, we remove these characters (below)."
   ]
  },
  {
   "cell_type": "markdown",
   "metadata": {},
   "source": [
    "### Replacing tokens\n",
    "The feature `'article'` contains a lot of abbreviations."
   ]
  },
  {
   "cell_type": "code",
   "execution_count": null,
   "metadata": {},
   "outputs": [],
   "source": [
    "print(mira.loc[51289, 'article'])\n",
    "print(mira.loc[126987, 'article'])\n",
    "print(mira.loc[542279, 'article'])\n",
    "print(mira.loc[8498, 'article'])"
   ]
  },
  {
   "cell_type": "markdown",
   "metadata": {},
   "source": [
    "To expand an abbreviation (e.g. replace `'Beatm Gerät'` by `'Beatmungsgerät'`) or replace them by an official dosage form abbreviation that can be recognized later (e.g. replace `'Au./Ohr. Tr.'` by `'ATO'`), we use a manually created csv file. This file is imported into a dataframe and transformed into a dictionary."
   ]
  },
  {
   "cell_type": "code",
   "execution_count": null,
   "metadata": {},
   "outputs": [],
   "source": [
    "abbreviations_df = pd.read_csv('data/abbreviations.csv', sep=';')\n",
    "abbreviations_df.sample(5, random_state=0)"
   ]
  },
  {
   "cell_type": "code",
   "execution_count": null,
   "metadata": {},
   "outputs": [],
   "source": [
    "replacements_abbreviations = pd.Series(abbreviations_df['expansion'].values,\n",
    "                                       index=abbreviations_df['abbreviation']\\\n",
    "                                       .str.replace(r'\\.$', '').str.lower()).to_dict()"
   ]
  },
  {
   "cell_type": "markdown",
   "metadata": {},
   "source": [
    "To replace an inofficial dosage form abbreviation (that can be found on a website by DocMorris) by the official abbreviation (of the Informationsstelle für Arzneispezialitäten), we use another csv file (that was created using the abbreviation files of DM and IFA)."
   ]
  },
  {
   "cell_type": "code",
   "execution_count": null,
   "metadata": {},
   "outputs": [],
   "source": [
    "replacements_dm_ifa_df = pd.read_csv('data/replacements_dm_ifa.csv', sep=';')\n",
    "replacements_dm_ifa_df.sample(5, random_state=0)"
   ]
  },
  {
   "cell_type": "code",
   "execution_count": null,
   "metadata": {},
   "outputs": [],
   "source": [
    "replacements_dm_ifa = pd.Series(replacements_dm_ifa_df['abbreviation_ifa'].values,\n",
    "                                index=replacements_dm_ifa_df['abbreviation_dm']\\\n",
    "                                .str.replace(r'\\.$', '').str.lower()).to_dict()"
   ]
  },
  {
   "cell_type": "markdown",
   "metadata": {},
   "source": [
    "To replace the full spelling of a dosage form by its IFA abbreviation, we use another csv file."
   ]
  },
  {
   "cell_type": "code",
   "execution_count": null,
   "metadata": {},
   "outputs": [],
   "source": [
    "dosage_forms_ifa = pd.read_csv('data/dosage_forms_ifa.csv', sep=';')\n",
    "dosage_forms_ifa.sample(5, random_state=0)"
   ]
  },
  {
   "cell_type": "code",
   "execution_count": null,
   "metadata": {},
   "outputs": [],
   "source": [
    "replacements_dosage_form = pd.Series(dosage_forms_ifa['abbreviation'].values,\n",
    "                                     index=dosage_forms_ifa['dosage form']\\\n",
    "                                     .str.replace(r'\\.$', '').str.lower()).to_dict()"
   ]
  },
  {
   "cell_type": "markdown",
   "metadata": {},
   "source": [
    "### Cleaner\n",
    "\n",
    "We clean the feature `'article'` (engineering a feature `'article cleaned'`), using a predefined function `clean_mira`."
   ]
  },
  {
   "cell_type": "code",
   "execution_count": null,
   "metadata": {},
   "outputs": [],
   "source": [
    "replacement_dicts = [replacements_abbreviations, replacements_dm_ifa, replacements_dosage_form]\n",
    "cleaner = FunctionTransformer(clean_mira, kw_args={'replacement_dicts': replacement_dicts})\n",
    "\n",
    "mira['article cleaned'] = cleaner.transform(mira['article'])"
   ]
  },
  {
   "cell_type": "markdown",
   "metadata": {},
   "source": [
    "## Feature engineering\n",
    "\n",
    "### Extraction of tokens\n",
    "\n",
    "Some values of the feature `'article cleaned'` contain dosage forms, manufacturers, or a note on laws."
   ]
  },
  {
   "cell_type": "code",
   "execution_count": null,
   "metadata": {},
   "outputs": [],
   "source": [
    "print(mira.loc[15, 'article cleaned'])\n",
    "print(mira.loc[210, 'article cleaned'])\n",
    "print(mira.loc[2, 'article cleaned'])"
   ]
  },
  {
   "cell_type": "markdown",
   "metadata": {},
   "source": [
    "To extract these tokens, we use lists and pandas series'."
   ]
  },
  {
   "cell_type": "code",
   "execution_count": null,
   "metadata": {},
   "outputs": [],
   "source": [
    "manufacturers = pd.read_csv('data/manufacturers.csv', sep=';')\n",
    "laws = ['11.3', '73.3', '116', '116b', '129', '129a']"
   ]
  },
  {
   "cell_type": "markdown",
   "metadata": {},
   "source": [
    "### Extraction of manufacturer article numbers\n",
    "\n",
    "Some values of the feature `'article cleaned'` contain a manufacturer article number at the end."
   ]
  },
  {
   "cell_type": "code",
   "execution_count": null,
   "metadata": {},
   "outputs": [],
   "source": [
    "print(mira.loc[396091, 'article cleaned'])"
   ]
  },
  {
   "cell_type": "markdown",
   "metadata": {},
   "source": [
    "We extract these manufacturer article numbers (below).\n",
    "\n",
    "### Extraction of information on additional fee\n",
    "\n",
    "Some values of the feature `'article cleaned'` contain an information on an addtional fee (\"Zusatzentgelt\") at the end."
   ]
  },
  {
   "cell_type": "code",
   "execution_count": null,
   "metadata": {},
   "outputs": [],
   "source": [
    "print(mira.loc[124, 'article cleaned'])"
   ]
  },
  {
   "cell_type": "markdown",
   "metadata": {},
   "source": [
    "### Extraction information on treatment\n",
    "\n",
    "Some values of the feature `'article cleaned'` contain information on ambulant and/or stationary treatment."
   ]
  },
  {
   "cell_type": "code",
   "execution_count": null,
   "metadata": {},
   "outputs": [],
   "source": [
    "print(mira.loc[0, 'article cleaned'])\n",
    "print(mira.loc[2, 'article cleaned'])"
   ]
  },
  {
   "cell_type": "markdown",
   "metadata": {},
   "source": [
    "### Extraction of physical entities\n",
    "\n",
    "Some values of the feature `'article cleaned'` contain physical entities."
   ]
  },
  {
   "cell_type": "code",
   "execution_count": null,
   "metadata": {},
   "outputs": [],
   "source": [
    "print(mira.loc[1, 'article cleaned']) # mass, volume, mass concentrion\n",
    "print(mira.loc[3, 'article cleaned']) # percentage\n",
    "print(mira.loc[43, 'article cleaned']) # count puffs\n",
    "print(mira.loc[77, 'article cleaned']) # active ingredient percentage\n",
    "print(mira.loc[594, 'article cleaned']) # mass flow\n",
    "print(mira.loc[2198, 'article cleaned']) # count\n",
    "print(mira.loc[2462, 'article cleaned']) # length\n",
    "print(mira.loc[118490, 'article cleaned']) # volume flow\n",
    "print(mira.loc[573428, 'article cleaned']) # mass puff concentation"
   ]
  },
  {
   "cell_type": "markdown",
   "metadata": {},
   "source": [
    "We extract some of these physical entities (below).\n",
    "\n",
    "### Feature engineerer\n",
    "\n",
    "We engineer the mentioned features. Moreover, we reduce the feature `'article cleaned'` by removing the mentioned strings, engineering a feature `'article base'`."
   ]
  },
  {
   "cell_type": "code",
   "execution_count": null,
   "metadata": {},
   "outputs": [],
   "source": [
    "token_lists = [dosage_forms_ifa['abbreviation'], manufacturers['manufacturer'], laws]\n",
    "token_feature_names = ['dosage form', 'manufacturer', 'law']\n",
    "\n",
    "mira = pd.concat([mira, extract_features_mira(mira['article cleaned'], token_lists, token_feature_names)],\n",
    "                 axis=1)"
   ]
  },
  {
   "cell_type": "code",
   "execution_count": null,
   "metadata": {},
   "outputs": [],
   "source": [
    "reducer = FunctionTransformer(reduce_to_base, kw_args={'token_lists': token_lists})\n",
    "\n",
    "mira['article base'] = reducer.transform(mira['article cleaned'])"
   ]
  },
  {
   "cell_type": "markdown",
   "metadata": {},
   "source": [
    "## Summary"
   ]
  },
  {
   "cell_type": "code",
   "execution_count": null,
   "metadata": {},
   "outputs": [],
   "source": [
    "mira.sample(5, random_state=0)"
   ]
  },
  {
   "cell_type": "code",
   "execution_count": null,
   "metadata": {
    "scrolled": true
   },
   "outputs": [],
   "source": [
    "data_type_info(mira)"
   ]
  },
  {
   "cell_type": "markdown",
   "metadata": {},
   "source": [
    "## Save data set\n",
    "\n",
    "We save the preprocessed data set."
   ]
  },
  {
   "cell_type": "code",
   "execution_count": null,
   "metadata": {},
   "outputs": [],
   "source": [
    "mira.to_pickle('data/mira_2.pickle')"
   ]
  },
  {
   "cell_type": "markdown",
   "metadata": {},
   "source": [
    "## Save preprocessor"
   ]
  },
  {
   "cell_type": "markdown",
   "metadata": {},
   "source": [
    "We construct a preprocessor object and save it for later usage in the web app."
   ]
  },
  {
   "cell_type": "code",
   "execution_count": null,
   "metadata": {},
   "outputs": [],
   "source": [
    "preprocessor = make_pipeline(cleaner, reducer)\n",
    "\n",
    "joblib.dump(preprocessor, 'objects/preprocessor.joblib');"
   ]
  }
 ],
 "metadata": {
  "kernelspec": {
   "display_name": "Python 3",
   "language": "python",
   "name": "python3"
  },
  "language_info": {
   "codemirror_mode": {
    "name": "ipython",
    "version": 3
   },
   "file_extension": ".py",
   "mimetype": "text/x-python",
   "name": "python",
   "nbconvert_exporter": "python",
   "pygments_lexer": "ipython3",
   "version": "3.6.10"
  },
  "toc": {
   "base_numbering": 1,
   "nav_menu": {},
   "number_sections": false,
   "sideBar": true,
   "skip_h1_title": false,
   "title_cell": "Table of Contents",
   "title_sidebar": "Contents",
   "toc_cell": false,
   "toc_position": {},
   "toc_section_display": true,
   "toc_window_display": true
  }
 },
 "nbformat": 4,
 "nbformat_minor": 4
}
