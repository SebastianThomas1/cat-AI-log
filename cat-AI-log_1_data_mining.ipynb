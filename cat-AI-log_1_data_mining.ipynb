{
 "cells": [
  {
   "cell_type": "markdown",
   "metadata": {},
   "source": [
    "# cat-AI-log. An AI-based product group allocation system\n",
    "\n",
    "Capstone project.\n",
    "\n",
    "Sebastian Thomas @ neue fische Bootcamp Data Science<br />\n",
    "(datascience at sebastianthomas dot de)\n",
    "\n",
    "When ordering medicines, hospitals have to deal with a multitude of different article descriptions for identical products. With cat-AI-log, article duplicates and similar articles can be found and articles can be catalogued in product groups using human-assisted artificial intelligence.\n",
    "\n",
    "![cat-AI-log presentation][photo]\n",
    "\n",
    "[photo]: cat-AI-log.png \"cat-AI-log presentation\"\n",
    "\n",
    "## Data origin\n",
    "The data was given to me as a final capstone project at the neue fische Bootcamp Data Science. It belong to a local consulting company with which I have cooperated.\n",
    "\n",
    "## Original features\n",
    "\n",
    "The instances represent article orders. The given features are as follows:\n",
    "\n",
    "| feature                   | description                                   | type                  |\n",
    "|:--------------------------|:----------------------------------------------|:----------------------|\n",
    "| `ArtikelBezeichnung`      | article description                           | text                  |\n",
    "| `Menge`                   | unclear, has strange values                   | continuous (numeric)  |\n",
    "| `WarengruppeBezeichnung`  | product group description, **used as target** | text                  |\n",
    "| `Mengeneinheit`           | unit of feature `Menge`                       | nominal (categorical) |\n",
    "| `Datenursprung`           | anonymised origin of instance                 | nominal (categorical) |"
   ]
  },
  {
   "cell_type": "markdown",
   "metadata": {},
   "source": [
    "# Part 1: Data mining\n",
    "\n",
    "We import the data set, explore it briefly, drop duplicates and unused features and handle the data types.\n",
    "\n",
    "## Imports\n",
    "\n",
    "### Modules, classes and functions"
   ]
  },
  {
   "cell_type": "code",
   "execution_count": null,
   "metadata": {},
   "outputs": [],
   "source": [
    "# data\n",
    "import pandas as pd\n",
    "\n",
    "# custom modules\n",
    "from modules.ds import data_type_info, handle_data_types"
   ]
  },
  {
   "cell_type": "markdown",
   "metadata": {},
   "source": [
    "### Data\n",
    "\n",
    "We import our data, which is available in a single csv file, in a dataframe."
   ]
  },
  {
   "cell_type": "code",
   "execution_count": null,
   "metadata": {},
   "outputs": [],
   "source": [
    "mira = pd.read_csv('data/mira_raw.csv', sep=';')\n",
    "mira"
   ]
  },
  {
   "cell_type": "markdown",
   "metadata": {},
   "source": [
    "## First exploration"
   ]
  },
  {
   "cell_type": "markdown",
   "metadata": {},
   "source": [
    "We explore the number of instances and features."
   ]
  },
  {
   "cell_type": "code",
   "execution_count": null,
   "metadata": {},
   "outputs": [],
   "source": [
    "mira.shape"
   ]
  },
  {
   "cell_type": "markdown",
   "metadata": {},
   "source": [
    "The dataframe `mira` has 1024619 rows and 5 columns, i.e. we have 1024619 instances, 1 target (`'WarengruppeBezeichnung'`) and 4 features.\n",
    "\n",
    "We explore the current data types, the number of unique values and the number of NA values of all features."
   ]
  },
  {
   "cell_type": "code",
   "execution_count": null,
   "metadata": {},
   "outputs": [],
   "source": [
    "data_type_info(mira)"
   ]
  },
  {
   "cell_type": "markdown",
   "metadata": {},
   "source": [
    "The feature `'ArtikelBezeichnung'` of the 1024619 instances has only 28018 unique values. The features `'Menge'` and `'Mengeneinheit'` have a large amount of NA values."
   ]
  },
  {
   "cell_type": "markdown",
   "metadata": {},
   "source": [
    "## Dropping features and instances\n",
    "\n",
    "In our further exploration, we will not use the features `'Menge'`, `'Mengeneinheit'` and `'Datenursprung'`, so we drop them from our dataframe. Moreover, we drop duplicate instances."
   ]
  },
  {
   "cell_type": "code",
   "execution_count": null,
   "metadata": {},
   "outputs": [],
   "source": [
    "mira.drop(['Menge', 'Mengeneinheit', 'Datenursprung'], axis=1, inplace=True)\n",
    "mira.drop_duplicates(inplace=True)\n",
    "mira.shape"
   ]
  },
  {
   "cell_type": "markdown",
   "metadata": {},
   "source": [
    "There remain 28020 instances.\n",
    "\n",
    "We investigate those instances, whose value of the feature `'ArtikelBezeichnung'` is equal."
   ]
  },
  {
   "cell_type": "code",
   "execution_count": null,
   "metadata": {},
   "outputs": [],
   "source": [
    "mira[mira.duplicated(subset=['ArtikelBezeichnung'], keep=False)]"
   ]
  },
  {
   "cell_type": "markdown",
   "metadata": {},
   "source": [
    "We remove the instances with index 19 and 2172."
   ]
  },
  {
   "cell_type": "code",
   "execution_count": null,
   "metadata": {},
   "outputs": [],
   "source": [
    "mira.drop([19, 2172], inplace=True)"
   ]
  },
  {
   "cell_type": "markdown",
   "metadata": {},
   "source": [
    "## Renaming features\n",
    "We use English language and rename the features."
   ]
  },
  {
   "cell_type": "code",
   "execution_count": null,
   "metadata": {},
   "outputs": [],
   "source": [
    "mira.rename({'ArtikelBezeichnung': 'article', 'WarengruppeBezeichnung': 'product group'},\n",
    "            axis=1, inplace=True)"
   ]
  },
  {
   "cell_type": "markdown",
   "metadata": {},
   "source": [
    "## Handling data types\n",
    "\n",
    "We cast the data types from `object` to `string`."
   ]
  },
  {
   "cell_type": "code",
   "execution_count": null,
   "metadata": {},
   "outputs": [],
   "source": [
    "handle_data_types(mira, string_features=mira.columns)"
   ]
  },
  {
   "cell_type": "markdown",
   "metadata": {},
   "source": [
    "## Summary"
   ]
  },
  {
   "cell_type": "code",
   "execution_count": null,
   "metadata": {},
   "outputs": [],
   "source": [
    "mira.sample(5, random_state=0)"
   ]
  },
  {
   "cell_type": "code",
   "execution_count": null,
   "metadata": {},
   "outputs": [],
   "source": [
    "data_type_info(mira)"
   ]
  },
  {
   "cell_type": "markdown",
   "metadata": {},
   "source": [
    "## Save data set"
   ]
  },
  {
   "cell_type": "code",
   "execution_count": null,
   "metadata": {},
   "outputs": [],
   "source": [
    "mira.to_pickle('data/mira_1.pickle')"
   ]
  }
 ],
 "metadata": {
  "kernelspec": {
   "display_name": "Python 3",
   "language": "python",
   "name": "python3"
  },
  "language_info": {
   "codemirror_mode": {
    "name": "ipython",
    "version": 3
   },
   "file_extension": ".py",
   "mimetype": "text/x-python",
   "name": "python",
   "nbconvert_exporter": "python",
   "pygments_lexer": "ipython3",
   "version": "3.6.10"
  },
  "toc": {
   "base_numbering": 1,
   "nav_menu": {},
   "number_sections": false,
   "sideBar": true,
   "skip_h1_title": false,
   "title_cell": "Table of Contents",
   "title_sidebar": "Contents",
   "toc_cell": false,
   "toc_position": {},
   "toc_section_display": true,
   "toc_window_display": true
  }
 },
 "nbformat": 4,
 "nbformat_minor": 4
}
