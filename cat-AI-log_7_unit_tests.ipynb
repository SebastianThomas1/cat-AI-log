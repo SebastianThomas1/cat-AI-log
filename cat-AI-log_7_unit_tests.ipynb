{
 "cells": [
  {
   "cell_type": "markdown",
   "metadata": {},
   "source": [
    "# cat-AI-log. An AI-based product group allocation system\n",
    "\n",
    "Capstone project.\n",
    "\n",
    "Sebastian Thomas @ neue fische Bootcamp Data Science<br />\n",
    "(datascience at sebastianthomas dot de)"
   ]
  },
  {
   "cell_type": "markdown",
   "metadata": {},
   "source": [
    "# Part 7: Unit tests\n",
    "\n",
    "We test the developed components.\n",
    "\n",
    "## Imports\n",
    "\n",
    "### Modules and functions"
   ]
  },
  {
   "cell_type": "code",
   "execution_count": 1,
   "metadata": {},
   "outputs": [],
   "source": [
    "from importlib import import_module"
   ]
  },
  {
   "cell_type": "markdown",
   "metadata": {},
   "source": [
    "### Constants"
   ]
  },
  {
   "cell_type": "code",
   "execution_count": 2,
   "metadata": {},
   "outputs": [],
   "source": [
    "BLACK = '\\033[90m'\n",
    "RED = '\\033[91m'\n",
    "GREEN = '\\033[92m'"
   ]
  },
  {
   "cell_type": "markdown",
   "metadata": {},
   "source": [
    "### Helper\n",
    "\n",
    "A helper function for printing the results of the tests."
   ]
  },
  {
   "cell_type": "code",
   "execution_count": 3,
   "metadata": {},
   "outputs": [],
   "source": [
    "def print_test_module(module_name, debug=False):\n",
    "    test_module = import_module(module_name)\n",
    "    tests = getattr(test_module, 'tests')\n",
    "    \n",
    "    for test in tests:\n",
    "        successes, failures = test(debug=debug)\n",
    "        print(BLACK + 'Running {}:'.format(test.__name__))\n",
    "        if failures == 0:\n",
    "            print(GREEN + 'All tests passed')\n",
    "        else:\n",
    "            print(GREEN + '{} tests passed'.format(successes))\n",
    "            print(RED + '{} tests failed'.format(failures))"
   ]
  },
  {
   "cell_type": "markdown",
   "metadata": {},
   "source": [
    "## Tests\n",
    "\n",
    "### Module quotient_extraction"
   ]
  },
  {
   "cell_type": "code",
   "execution_count": 4,
   "metadata": {},
   "outputs": [
    {
     "name": "stderr",
     "output_type": "stream",
     "text": [
      "/anaconda3/lib/python3.7/site-packages/numba/core/ir_utils.py:2031: NumbaPendingDeprecationWarning: \n",
      "Encountered the use of a type that is scheduled for deprecation: type 'reflected list' found for argument 'vocabulary' of function 'pairwise_damerau_levenshtein_distances'.\n",
      "\n",
      "For more information visit http://numba.pydata.org/numba-doc/latest/reference/deprecation.html#deprecation-of-reflection-for-list-and-set-types\n",
      "\n",
      "File \"modules/quotient_extraction.py\", line 25:\n",
      "@njit\n",
      "def pairwise_damerau_levenshtein_distances(vocabulary, dtype=np.int64):\n",
      "^\n",
      "\n",
      "  warnings.warn(NumbaPendingDeprecationWarning(msg, loc=loc))\n"
     ]
    },
    {
     "name": "stdout",
     "output_type": "stream",
     "text": [
      "\u001b[90mRunning test_pairwise_damerau_levenshtein_distances:\n",
      "\u001b[92mAll tests passed\n",
      "\u001b[90mRunning test_pairwise_damerau_levenshtein_similarities:\n",
      "\u001b[92mAll tests passed\n",
      "\u001b[90mRunning test_symmetric_matrix:\n",
      "\u001b[92mAll tests passed\n",
      "\u001b[90mRunning test_csgraph:\n",
      "\u001b[92mAll tests passed\n",
      "\u001b[90mRunning test_quotient_matrix:\n",
      "\u001b[92mAll tests passed\n",
      "\u001b[90mRunning test_quotient_count_vectorizer:\n",
      "\u001b[92mAll tests passed\n",
      "\u001b[90mRunning test_quotient_count_vectorizer:\n",
      "\u001b[92mAll tests passed\n"
     ]
    }
   ],
   "source": [
    "print_test_module('unittests.tests_quotient_extraction')"
   ]
  },
  {
   "cell_type": "markdown",
   "metadata": {},
   "source": [
    "### Module search"
   ]
  },
  {
   "cell_type": "code",
   "execution_count": 5,
   "metadata": {},
   "outputs": [
    {
     "name": "stdout",
     "output_type": "stream",
     "text": [
      "\u001b[90mRunning test_search_engine:\n",
      "\u001b[92mAll tests passed\n"
     ]
    }
   ],
   "source": [
    "print_test_module('unittests.tests_search')"
   ]
  },
  {
   "cell_type": "markdown",
   "metadata": {},
   "source": [
    "### Module spelling_correction"
   ]
  },
  {
   "cell_type": "code",
   "execution_count": 6,
   "metadata": {},
   "outputs": [
    {
     "name": "stdout",
     "output_type": "stream",
     "text": [
      "\u001b[90mRunning test_damerau_levenshtein_distance:\n",
      "\u001b[92mAll tests passed\n",
      "\u001b[90mRunning test_spelling_corrector:\n",
      "\u001b[92mAll tests passed\n"
     ]
    }
   ],
   "source": [
    "print_test_module('unittests.tests_spelling_correction')"
   ]
  }
 ],
 "metadata": {
  "kernelspec": {
   "display_name": "Python 3",
   "language": "python",
   "name": "python3"
  },
  "language_info": {
   "codemirror_mode": {
    "name": "ipython",
    "version": 3
   },
   "file_extension": ".py",
   "mimetype": "text/x-python",
   "name": "python",
   "nbconvert_exporter": "python",
   "pygments_lexer": "ipython3",
   "version": "3.7.8"
  },
  "toc": {
   "base_numbering": 1,
   "nav_menu": {},
   "number_sections": false,
   "sideBar": true,
   "skip_h1_title": false,
   "title_cell": "Table of Contents",
   "title_sidebar": "Contents",
   "toc_cell": false,
   "toc_position": {},
   "toc_section_display": true,
   "toc_window_display": false
  }
 },
 "nbformat": 4,
 "nbformat_minor": 4
}
