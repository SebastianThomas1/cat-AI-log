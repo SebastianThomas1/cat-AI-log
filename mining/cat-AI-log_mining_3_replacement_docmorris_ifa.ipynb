{
 "cells": [
  {
   "cell_type": "markdown",
   "metadata": {},
   "source": [
    "# cat-AI-log. An AI-based product group allocation system\n",
    "\n",
    "Capstone project.\n",
    "\n",
    "Sebastian Thomas @ neue fische Bootcamp Data Science<br />\n",
    "(datascience at sebastianthomas dot de)"
   ]
  },
  {
   "cell_type": "markdown",
   "metadata": {},
   "source": [
    "# Mining 3: Construction of a replacement dictionary from DocMorris to IFA\n",
    "\n",
    "Some (inofficial) abbreviations of dosage forms found at the DocMorris Blog differ from the (official) abbreviations of the IFA. We construct a replacement file.\n",
    "\n",
    "## Imports\n",
    "\n",
    "### Modules, classes and functions"
   ]
  },
  {
   "cell_type": "code",
   "execution_count": null,
   "metadata": {},
   "outputs": [],
   "source": [
    "# data\n",
    "import pandas as pd"
   ]
  },
  {
   "cell_type": "markdown",
   "metadata": {},
   "source": [
    "### Data"
   ]
  },
  {
   "cell_type": "code",
   "execution_count": null,
   "metadata": {},
   "outputs": [],
   "source": [
    "ifa = pd.read_csv('../data/dosage_forms_ifa.csv', sep=';')\n",
    "dm = pd.read_csv('../data/dosage_forms_dm.csv', sep=';')"
   ]
  },
  {
   "cell_type": "markdown",
   "metadata": {},
   "source": [
    "## Mining\n",
    "\n",
    "First, we merge the data frames on the feature `'abbreviation'` to see on which values there are different expansions."
   ]
  },
  {
   "cell_type": "code",
   "execution_count": null,
   "metadata": {},
   "outputs": [],
   "source": [
    "inters_on_abbr = dm.merge(ifa, on='abbreviation', suffixes=(' dm', ' ifa'))\n",
    "inters_on_abbr[inters_on_abbr['dosage form dm'] != inters_on_abbr['dosage form ifa']]"
   ]
  },
  {
   "cell_type": "markdown",
   "metadata": {},
   "source": [
    "We investigate which dosage forms have no IFA abbreviation."
   ]
  },
  {
   "cell_type": "code",
   "execution_count": null,
   "metadata": {},
   "outputs": [],
   "source": [
    "dm_minus_ifa = dm[~dm['abbreviation'].isin(inters_on_abbr['abbreviation'])]\\\n",
    "               .merge(ifa, how='left', on='dosage form', suffixes=('_dm', '_ifa'))\n",
    "dm_minus_ifa[dm_minus_ifa['abbreviation_ifa'].isna()]"
   ]
  },
  {
   "cell_type": "markdown",
   "metadata": {},
   "source": [
    "We construct the replacement data frame."
   ]
  },
  {
   "cell_type": "code",
   "execution_count": null,
   "metadata": {},
   "outputs": [],
   "source": [
    "replacements = dm_minus_ifa[dm_minus_ifa['abbreviation_ifa'].notna()][['abbreviation_dm',\n",
    "                                                                       'abbreviation_ifa']]\n",
    "replacements"
   ]
  },
  {
   "cell_type": "markdown",
   "metadata": {},
   "source": [
    "## Save data\n",
    "\n",
    "We save the dataframe for later usage."
   ]
  },
  {
   "cell_type": "code",
   "execution_count": null,
   "metadata": {},
   "outputs": [],
   "source": [
    "replacements.to_csv('../data/replacements_dm_ifa.csv', sep=';', index=False)"
   ]
  }
 ],
 "metadata": {
  "kernelspec": {
   "display_name": "Python 3",
   "language": "python",
   "name": "python3"
  },
  "language_info": {
   "codemirror_mode": {
    "name": "ipython",
    "version": 3
   },
   "file_extension": ".py",
   "mimetype": "text/x-python",
   "name": "python",
   "nbconvert_exporter": "python",
   "pygments_lexer": "ipython3",
   "version": "3.6.10"
  },
  "toc": {
   "base_numbering": 1,
   "nav_menu": {},
   "number_sections": false,
   "sideBar": true,
   "skip_h1_title": false,
   "title_cell": "Table of Contents",
   "title_sidebar": "Contents",
   "toc_cell": false,
   "toc_position": {},
   "toc_section_display": true,
   "toc_window_display": true
  }
 },
 "nbformat": 4,
 "nbformat_minor": 4
}
